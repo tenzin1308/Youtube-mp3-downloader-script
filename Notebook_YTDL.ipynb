{
 "cells": [
  {
   "cell_type": "code",
   "execution_count": 15,
   "id": "4e2c4708",
   "metadata": {
    "scrolled": true
   },
   "outputs": [
    {
     "name": "stderr",
     "output_type": "stream",
     "text": [
      "<ipython-input-15-91d80eb5e1cd>:18: DeprecationWarning: use options instead of chrome_options\n",
      "  driver = webdriver.Chrome(executable_path=PATH, chrome_options=chrome_options)\n"
     ]
    },
    {
     "name": "stdout",
     "output_type": "stream",
     "text": [
      "https://www.youtube.com/watch?v=2f31hcGTb-0\n"
     ]
    }
   ],
   "source": [
    "# libaries\n",
    "import os  \n",
    "from selenium import webdriver\n",
    "from selenium.webdriver.chrome.options import Options  \n",
    "from selenium.webdriver.common.keys import Keys\n",
    "from selenium.webdriver.common.by import By\n",
    "from selenium.webdriver.support.ui import WebDriverWait\n",
    "from selenium.webdriver.support import expected_conditions as EC\n",
    "import youtube_dl\n",
    "\n",
    "# path for chromedriver\n",
    "PATH = \"/Users/tenzintashi/Downloads/chromedriver\"\n",
    "\n",
    "# use headless Chrome as the browser\n",
    "chrome_options = Options()  \n",
    "chrome_options.add_argument(\"--headless\")\n",
    "chrome_options.binary_location = '/Applications/Google Chrome.app/Contents/MacOS/Google Chrome'\n",
    "driver = webdriver.Chrome(executable_path=PATH, chrome_options=chrome_options) \n",
    "\n",
    "# Website to access\n",
    "driver.get(\"https://www.youtube.com/results?search_query=dinero+trinidad+cardona+official+music+video\")\n",
    "\n",
    "hrefs = [video.get_attribute('href') for video in driver.find_elements_by_id(\"video-title\")]\n",
    "\n",
    "link = None\n",
    "List = []\n",
    "for href in hrefs:\n",
    "    if href is not None:\n",
    "        link = href\n",
    "        break\n",
    "print(link)"
   ]
  },
  {
   "cell_type": "code",
   "execution_count": 17,
   "id": "c13e52d7",
   "metadata": {
    "scrolled": false
   },
   "outputs": [
    {
     "name": "stdout",
     "output_type": "stream",
     "text": [
      "[youtube] 2f31hcGTb-0: Downloading webpage\n",
      "[download] Destination: Trinidad Cardona - Dinero-2f31hcGTb-0.webm\n",
      "[download] 100% of 2.89MiB in 01:0748KiB/s ETA 00:00\n",
      "[ffmpeg] Destination: Trinidad Cardona - Dinero-2f31hcGTb-0.mp3\n",
      "Deleting original file Trinidad Cardona - Dinero-2f31hcGTb-0.webm (pass -k to keep)\n"
     ]
    }
   ],
   "source": [
    "from __future__ import unicode_literals\n",
    "import youtube_dl\n",
    "\n",
    "\n",
    "ydl_opts = {\n",
    "    'format': 'bestaudio/best',\n",
    "    'postprocessors': [{\n",
    "        'key': 'FFmpegExtractAudio',\n",
    "        'preferredcodec': 'mp3',\n",
    "        'preferredquality': '192',\n",
    "    }],\n",
    "}\n",
    "with youtube_dl.YoutubeDL(ydl_opts) as ydl:\n",
    "    ydl.download([link])"
   ]
  },
  {
   "cell_type": "code",
   "execution_count": null,
   "id": "0503ebda",
   "metadata": {},
   "outputs": [],
   "source": []
  }
 ],
 "metadata": {
  "kernelspec": {
   "display_name": "Python 3",
   "language": "python",
   "name": "python3"
  },
  "language_info": {
   "codemirror_mode": {
    "name": "ipython",
    "version": 3
   },
   "file_extension": ".py",
   "mimetype": "text/x-python",
   "name": "python",
   "nbconvert_exporter": "python",
   "pygments_lexer": "ipython3",
   "version": "3.8.8"
  }
 },
 "nbformat": 4,
 "nbformat_minor": 5
}
